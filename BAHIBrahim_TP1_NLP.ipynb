{
 "cells": [
  {
   "cell_type": "markdown",
   "metadata": {},
   "source": [
    "<center><h1>TP 1: lemmatization vs stemming</h1></center>"
   ]
  },
  {
   "cell_type": "markdown",
   "metadata": {},
   "source": [
    "<i>faite par BAHI Brahim</i>"
   ]
  },
  {
   "cell_type": "code",
   "execution_count": 1,
   "metadata": {},
   "outputs": [],
   "source": [
    "import pandas as pd\n",
    "import re\n",
    "import nltk\n",
    "import spacy\n",
    "from nltk.corpus import stopwords\n",
    "from nltk.stem import WordNetLemmatizer\n",
    "from nltk.stem import PorterStemmer\n"
   ]
  },
  {
   "cell_type": "markdown",
   "metadata": {},
   "source": [
    "* downloading the necessary databases of words to use later on"
   ]
  },
  {
   "cell_type": "code",
   "execution_count": 3,
   "metadata": {},
   "outputs": [
    {
     "name": "stderr",
     "output_type": "stream",
     "text": [
      "[nltk_data] Downloading package stopwords to\n",
      "[nltk_data]     C:\\Users\\bahib\\AppData\\Roaming\\nltk_data...\n",
      "[nltk_data]   Package stopwords is already up-to-date!\n",
      "[nltk_data] Downloading package wordnet to\n",
      "[nltk_data]     C:\\Users\\bahib\\AppData\\Roaming\\nltk_data...\n",
      "[nltk_data]   Package wordnet is already up-to-date!\n"
     ]
    }
   ],
   "source": [
    "nltk.download('stopwords')\n",
    "nltk.download('wordnet')\n",
    "nlp = spacy.load('en_core_web_sm')"
   ]
  },
  {
   "cell_type": "markdown",
   "metadata": {},
   "source": [
    "* importing the tweets"
   ]
  },
  {
   "cell_type": "code",
   "execution_count": 4,
   "metadata": {},
   "outputs": [
    {
     "data": {
      "text/plain": [
       "['@AppleSupport causing the reply to be disregarded and the tapped notification under the keyboard is opened😡😡😡',\n",
       " '@105835 Your business means a lot to us. Please DM your name, zip code and additional details about your concern. ^RR https://t.co/znUu1VJn9r',\n",
       " \"@76328 I really hope you all change but I'm sure you won't! Because you don't have to!\",\n",
       " '@105836 LiveChat is online at the moment - https://t.co/SY94VtU8Kq or contact 03331 031 031 option 1, 4, 3 (Leave a message) to request a call back',\n",
       " \"@VirginTrains see attached error message. I've tried leaving a voicemail several times in the past week https://t.co/NxVZjlYx1k\",\n",
       " '@105836 Have you tried from another device, Miriam ^MM',\n",
       " \"@VirginTrains yep, I've tried laptop too several times over the past week and again today. I've tried different browsers too\",\n",
       " \"@105836 It's working OK from here, Miriam. Does this link help https://t.co/0m2mpH15eh ? ^MM\",\n",
       " \"@VirginTrains I still haven't heard &amp; the number I'm directed to by phone is a dead end &amp; the live chat doesn't work. Can someone call me?\",\n",
       " \"@105836 That's what we're here for Miriam 😊  The team should send you an email shortly ^HP\",\n",
       " '@105837 We can help. Which version of iOS are you on? You can find that in Settings &gt; General &gt; About. Reply in DM. https://t.co/GDrqU22YpT',\n",
       " '@105838 @AppleSupport Me too am suffering , hope the can find a solution',\n",
       " '@AppleSupport hi #apple, I’ve a concern about the latest ios is too slow on #iphone6 and i am not happy with it. Any solution please?',\n",
       " '@105839 Thanks for reaching out to us. We are always happy to help. Send us a DM so we can look into this together. https://t.co/GDrqU22YpT',\n",
       " 'I just updated my phone and suddenly everything takes ages to load wtf @76099 this update sux I hate it fix it bye',\n",
       " \"@105840 Hi there! What device is this happening on? If you could also let us know the Android and Spotify versions you're using, that'd be great /AY\",\n",
       " '@SpotifyCares Thanks! Version 8.4.22.857 armv7 on anker bluetooth speaker on Samsung Galaxy Tab A (2016) Model SM-T280 Does distance from speaker matter?',\n",
       " '@105840 Thanks. The distance could possibly affect playback. Does logging out &gt; restarting your device &gt; logging back in make a difference? /AY',\n",
       " \"@SpotifyCares No, but I've moved speaker to about 1 metre away and it's not skipping at the mo - it was about 3 or 4 metres away before. Fingers crossed!\",\n",
       " \"@105840 That's great to hear. If anything comes up, just let us know. We'll carry on helping out 🙂 /AY\",\n",
       " '@SpotifyCares Brilliant thanks 😊',\n",
       " \"@105840 You're welcome! If there's anything else we can help with, just give us a shout. We're here for you 😉 /CP\",\n",
       " '@76495 @91226 Please help! Spotify Premium skipping through songs constantly on android tablet &amp; bluetooth speaker. Tried everything!',\n",
       " \"@105841 We'd love to help! Please DM us and let us know any steps you've tried since experiencing these behaviors. https://t.co/GDrqU22YpT\",\n",
       " '@AppleSupport after the 11.0.2 my phone just sucks most of the apps are broken, wifi disconnects frequently #apple #ios1102 #painfulupdate',\n",
       " \"@105842 We're sorry your flight has been delayed, Beatner. Are you travelling on the BA8733? If so, the updated departure time we have is 15:30. 1/2\",\n",
       " 'First flight for long time with @British_Airways. Now over one 1h delay for the short jump FRA-LCY and NO one here to provide status updates',\n",
       " \"@105843 Battery life is important, and we're here for you. DM us the iOS version your iPhone is running. We'll go from there. https://t.co/GDrqU22YpT\",\n",
       " 'Okay @76099 I used my fucking phone for 2 minutes and it drains it down 8 fucking percent',\n",
       " '@105844 Thanks for reaching out to us. We are always happy to help. Send us a DM so we can look into this together. https://t.co/GDrqU22YpT',\n",
       " '@AppleSupport Can you get my iPhone 7plus back on the old iOS please?  Battery runs out in half the time, apps now frequently crash.',\n",
       " \"@105844 We'd be happy to help. Send us a DM and we can start there. https://t.co/GDrqU22YpT\",\n",
       " 'You’ve paralysed my phone with your update @76099 grrrrrrrrrr',\n",
       " \"@82476 🤔 We'd like to help Sam, which number is calling you? Please DM us more info so we can advise further. https://t.co/5pyLDJBC6r\",\n",
       " \"@O2 I received this a few weeks ago, since then I've been getting 2/3 calls a day from a telemarketer. Is someone using your name? https://t.co/GLtz4XHcex\",\n",
       " '@105845 I understand this is a frustrating experience, please send a DM with your account information so I can look into this matter for you. -AD',\n",
       " 'My internet is down and xfinity talkin about 24-72 hours... y’all have the game messed up. \\n\\n@77245',\n",
       " '@105676 I understand how you frustrated this situation can be. Please follow us by sending a DM for further assistance. Sprint Cares. -AC',\n",
       " '@76803  I service last 40 min sprint can I get a refund https://t.co/wYPw9hP6wt',\n",
       " \"@105846 We'd like to help. What happens when you try to listen to Apple Music &amp; use WhatsApp? Does the music pause? Let us know in DM. https://t.co/GDrqU22YpT\",\n",
       " 'So the new @76099 update does not let me listen to music and go on whatsapp at the same time?!?',\n",
       " \"@105847 Hi Harry! Help's here. Can you check if logging out &gt; restarting your device &gt; logging back in makes a difference? Keep us posted /MU\",\n",
       " '@SpotifyCares seems to be working at this stage. Will let you know if it happens again. Cheers',\n",
       " \"@105847 Sure thing. We'll keep an eye out for your update /MU\",\n",
       " '@SpotifyCares problem has come back again today. is there some kind of bug?',\n",
       " '@105847 Thanks for giving us a nudge about this. What device, operating system, and Spotify version is this happening on? /AY',\n",
       " \"@SpotifyCares It's on a Macbook Air (early 2014), running High Sierra, spotify version 1.0.65.320.gac7a8e02\",\n",
       " '@105847 Got it. Can you try the steps here for us: https://t.co/EqisDMwZAT? They should help with this. Let us know how it plays out /AY',\n",
       " \"@SpotifyCares i've been having issues with playback. songs have been stopping midway through and won't restart unless i close and reopen app\",\n",
       " \"@105848 Let's take a look. What is the exact iOS you're using? Are you using any specific apps when noticing this? DM us your reply. https://t.co/GDrqU22YpT\",\n",
       " '@AppleSupport Latest version 😡😡 I have read the help page turned off virtually all apps and location svs too - but in typing this I dropped 3% life',\n",
       " '@AppleSupport Super help - problem solved 😀 once again in love with Apple',\n",
       " '@AppleSupport #ios11update - is still killing my battery within 12 hours - phone is 10 months old - it’s a disgrace - used to get 2 days',\n",
       " '@105849 Thanks for reaching out to us. We are always happy to help. Send us a DM so we can look into this together. https://t.co/GDrqU22YpT',\n",
       " 'Took my phone off charge at 7:20am.\\n\\n8:03am - 60% battery remaining.\\n\\n@76099 plz I beg you, sort your battery life out😩',\n",
       " \"@105850 Once the points load and you hit the number, you get it immediately! You'll even receive a congrats email. Are you almost there? ^AC\",\n",
       " '@SouthwestAir I am! Thank you for the answer!!',\n",
       " '@southwestair Just curious....will I get the companion pass the exact moment I get enough points? It will I have to wait? Thanks!',\n",
       " \"@105851 We'd like to provide some assistance with this. Tell us more about the issue you're experiencing in DM. We'll go from there. https://t.co/GDrqU22YpT\",\n",
       " '@AppleSupport I need a new code for my I-store. I haven’t recd any but msg is too many sent. Help!',\n",
       " \"@105852 Are you experiencing an issue with your device? If so, DM us with what's going on. We'll see how we can help from there. https://t.co/GDrqU22YpT\",\n",
       " '@76099 @AppleSupport fix this update. It’s horrible',\n",
       " \"@105842 I appreciate it's after 15:30 now, so hopefully you will depart very soon. We're sorry for any inconvenience the delay has caused. 2/2 ^JR\",\n",
       " '@British_Airways Thanks for your answer. Response onsite was that Aircraft will not depart today, so rebooking to @105853 with now 4h delay...',\n",
       " '@105842 Very sorry to hear this.  We hope you get everything sorted.   Kind Regards ^Jools',\n",
       " '@105854 I am sorry for the poor experience. Can you please DM the full service address and name on the account, as we ass... https://t.co/JEZhqGdBMd',\n",
       " \"@Ask_Spectrum It's just in my yard. I've called 4-5 times in 6 weeks. I'm not a customer but it's pretty tempting. I do have some coaxial\",\n",
       " '@76501 I guess this means free cable for the neighborhood. https://t.co/FBgEE9YXPm',\n",
       " \"@105855 Hi Thomas, if a colleague believes the person buying alcohol looks under 25, they will be challenged for ID to prove they're of age. - Paige\",\n",
       " '@Tesco Maybe hire colleagues who can see?',\n",
       " \"@Tesco The point is if it's enforced they do it properly or they don't. Plus take some common-sense and think does that person look over 18?\",\n",
       " '@105855 Hi Thomas, this is correct but this helps our store colleagues judge age and protect them from making underage sales. Amanda',\n",
       " '@Tesco Uk offlicense law is 18. Not 25',\n",
       " \"@105855 Hi Thomas, we operate a Think 25 policy at our stores. I'd be flattered to be ID'd. :-) - Helena\",\n",
       " \"Got id's @Tesco for buying one Adnams Broadside. Is being blind part of the job-spec? I am 35 and 99 kilos.\",\n",
       " '@105856 Hi there, could you try deleting your cache and cookies and reinstalling the app if using it? This should fix the issue :) - Dani',\n",
       " \"@Tesco Will I lose all the shopping I've done if I delete the cache/cookies (not using app)?\",\n",
       " \"@105856 Hi there, as long as you sign out of your account prior to deleting your cache &amp; cookies, you'll still have a full basket :) Thanks - Mike\",\n",
       " '@Tesco Done all that. Still telling me there are no delivery slots whatsoever.',\n",
       " \"@105856 Can you DM me your full name, address and email? I'd be happy to look into this further for you :) Thanks - Mike\",\n",
       " \"Hey @Tesco, your website's broken. It's telling me there are no delivery slots for the next 3 weeks, which I find slightly unlikely.\",\n",
       " '@105857 Is there a particular app that seems to cause these issues more than others? What model iPhone are you using? Join us in DM. https://t.co/GDrqU22YpT',\n",
       " '@AppleSupport I have the latest version iOS. It started immediately after I updated my phone.',\n",
       " \"@105857 We'd like to help if we can. When did this start happening? Which version of iOS are you running currently?\",\n",
       " 'My apps stop working without warning and my phone freezes every five minutes! Love the new update @76099!!!!',\n",
       " '@105858 Hi Agoura, thanks for tweeting. Please refer to this article: https://t.co/BSsgjZARTc &amp; click the link to reply back. ^Rashmi https://t.co/a2xkfCrUG1',\n",
       " '@HPSupport Problem with printhead  Serial# TH536D1HN #hpcswus #hpprnt',\n",
       " '@105859 UPS has a service called My Choice that will allow your packages to be delivered to UPS Store. ^ML  https://t.co/BPZKndqww1 https://t.co/wKJHDXWGRQ',\n",
       " '@105860 I wish Amazon had an option of where I can just get it shipped to the ups store so I can avoid a lot of the struggle',\n",
       " 'They reschedule my shit for tomorrow https://t.co/RsvZcT982t',\n",
       " \"@105861 Hey Sara, sorry to hear of the issues you are having, can I ask if it's the lay out or just the speed of the website responding? TY - Chris\",\n",
       " '@Tesco bit of both - finding the layout cumbersome and when removing an item from faves - getting a huge slowdown. Not keen on the thin green line https://t.co/9281OKEebk',\n",
       " \"@105861 If that doesn't help please DM your full name, address and email including the browser and device so we can log this. Thanks - Lee 2/2\"]"
      ]
     },
     "execution_count": 4,
     "metadata": {},
     "output_type": "execute_result"
    }
   ],
   "source": [
    "texts = pd.read_csv('sample.csv')['text'].to_list()\n",
    "texts\n"
   ]
  },
  {
   "cell_type": "markdown",
   "metadata": {},
   "source": [
    "* processing the tweets by deleting all non-alphabetic characters, including emojis and digits, and more."
   ]
  },
  {
   "cell_type": "code",
   "execution_count": 5,
   "metadata": {},
   "outputs": [
    {
     "name": "stdout",
     "output_type": "stream",
     "text": [
      "[['applesupport', 'causing', 'reply', 'disregarded', 'tapped', 'notification', 'keyboard', 'opened'], ['business', 'means', 'lot', 'us', 'please', 'dm', 'name', 'zip', 'code', 'additional', 'details', 'concern', 'rr', 'https', 'co'], ['really', 'hope', 'change', 'sure'], ['livechat', 'online', 'moment', 'https', 'co', 'contact', 'option', 'leave', 'message', 'request', 'call', 'back'], ['virgintrains', 'see', 'attached', 'error', 'message', 'tried', 'leaving', 'voicemail', 'several', 'times', 'past', 'week', 'https', 'co'], ['tried', 'another', 'device', 'miriam', 'mm'], ['virgintrains', 'yep', 'tried', 'laptop', 'several', 'times', 'past', 'week', 'today', 'tried', 'different', 'browsers'], ['working', 'ok', 'miriam', 'link', 'help', 'https', 'co', 'mm'], ['virgintrains', 'still', 'heard', 'amp', 'number', 'directed', 'phone', 'dead', 'end', 'amp', 'live', 'chat', 'work', 'someone', 'call'], ['miriam', 'team', 'send', 'email', 'shortly', 'hp'], ['help', 'version', 'ios', 'find', 'settings', 'gt', 'general', 'gt', 'reply', 'dm', 'https', 'co'], ['applesupport', 'suffering', 'hope', 'find', 'solution'], ['applesupport', 'hi', 'apple', 'concern', 'latest', 'ios', 'slow', 'happy', 'solution', 'please'], ['thanks', 'reaching', 'us', 'always', 'happy', 'help', 'send', 'us', 'dm', 'look', 'together', 'https', 'co'], ['updated', 'phone', 'suddenly', 'everything', 'takes', 'ages', 'load', 'wtf', 'update', 'sux', 'hate', 'fix', 'bye'], ['hi', 'device', 'happening', 'could', 'also', 'let', 'us', 'know', 'android', 'spotify', 'versions', 'using', 'great', 'ay'], ['spotifycares', 'thanks', 'version', 'anker', 'bluetooth', 'speaker', 'samsung', 'galaxy', 'tab', 'model', 'sm', 'distance', 'speaker', 'matter'], ['thanks', 'distance', 'could', 'possibly', 'affect', 'playback', 'logging', 'gt', 'restarting', 'device', 'gt', 'logging', 'back', 'make', 'difference', 'ay'], ['spotifycares', 'moved', 'speaker', 'metre', 'away', 'skipping', 'mo', 'metres', 'away', 'fingers', 'crossed'], ['great', 'hear', 'anything', 'comes', 'let', 'us', 'know', 'carry', 'helping', 'ay'], ['spotifycares', 'brilliant', 'thanks'], ['welcome', 'anything', 'else', 'help', 'give', 'us', 'shout', 'cp'], ['please', 'help', 'spotify', 'premium', 'skipping', 'songs', 'constantly', 'android', 'tablet', 'amp', 'bluetooth', 'speaker', 'tried', 'everything'], ['love', 'help', 'please', 'dm', 'us', 'let', 'us', 'know', 'steps', 'tried', 'since', 'experiencing', 'behaviors', 'https', 'co'], ['applesupport', 'phone', 'sucks', 'apps', 'broken', 'wifi', 'disconnects', 'frequently', 'apple', 'painfulupdate'], ['sorry', 'flight', 'delayed', 'beatner', 'travelling', 'updated', 'departure', 'time'], ['first', 'flight', 'long', 'time', 'one', 'delay', 'short', 'jump', 'fra', 'lcy', 'one', 'provide', 'status', 'updates'], ['battery', 'life', 'important', 'dm', 'us', 'ios', 'version', 'iphone', 'running', 'go', 'https', 'co'], ['okay', 'used', 'fucking', 'phone', 'minutes', 'drains', 'fucking', 'percent'], ['thanks', 'reaching', 'us', 'always', 'happy', 'help', 'send', 'us', 'dm', 'look', 'together', 'https', 'co'], ['applesupport', 'get', 'iphone', 'back', 'old', 'ios', 'please', 'battery', 'runs', 'half', 'time', 'apps', 'frequently', 'crash'], ['happy', 'help', 'send', 'us', 'dm', 'start', 'https', 'co'], ['paralysed', 'phone', 'update', 'grrrrrrrrrr'], ['like', 'help', 'sam', 'number', 'calling', 'please', 'dm', 'us', 'info', 'advise', 'https', 'co'], ['received', 'weeks', 'ago', 'since', 'getting', 'calls', 'day', 'telemarketer', 'someone', 'using', 'name', 'https', 'co'], ['understand', 'frustrating', 'experience', 'please', 'send', 'dm', 'account', 'information', 'look', 'matter', 'ad'], ['internet', 'xfinity', 'talkin', 'hours', 'game', 'messed'], ['understand', 'frustrated', 'situation', 'please', 'follow', 'us', 'sending', 'dm', 'assistance', 'sprint', 'cares', 'ac'], ['service', 'last', 'min', 'sprint', 'get', 'refund', 'https', 'co'], ['like', 'help', 'happens', 'try', 'listen', 'apple', 'music', 'amp', 'use', 'whatsapp', 'music', 'pause', 'let', 'us', 'know', 'dm', 'https', 'co'], ['new', 'update', 'let', 'listen', 'music', 'go', 'whatsapp', 'time'], ['hi', 'harry', 'help', 'check', 'logging', 'gt', 'restarting', 'device', 'gt', 'logging', 'back', 'makes', 'difference', 'keep', 'us', 'posted', 'mu'], ['spotifycares', 'seems', 'working', 'stage', 'let', 'know', 'happens', 'cheers'], ['sure', 'thing', 'keep', 'eye', 'update', 'mu'], ['spotifycares', 'problem', 'come', 'back', 'today', 'kind', 'bug'], ['thanks', 'giving', 'us', 'nudge', 'device', 'operating', 'system', 'spotify', 'version', 'happening', 'ay'], ['spotifycares', 'macbook', 'air', 'early', 'running', 'high', 'sierra', 'spotify', 'version'], ['got', 'try', 'steps', 'us', 'https', 'co', 'eqisdmwzat', 'help', 'let', 'us', 'know', 'plays', 'ay'], ['spotifycares', 'issues', 'playback', 'songs', 'stopping', 'midway', 'restart', 'unless', 'close', 'reopen', 'app'], ['let', 'take', 'look', 'exact', 'ios', 'using', 'using', 'specific', 'apps', 'noticing', 'dm', 'us', 'reply', 'https', 'co'], ['applesupport', 'latest', 'version', 'read', 'help', 'page', 'turned', 'virtually', 'apps', 'location', 'svs', 'typing', 'dropped', 'life'], ['applesupport', 'super', 'help', 'problem', 'solved', 'love', 'apple'], ['applesupport', 'still', 'killing', 'battery', 'within', 'hours', 'phone', 'months', 'old', 'disgrace', 'used', 'get', 'days'], ['thanks', 'reaching', 'us', 'always', 'happy', 'help', 'send', 'us', 'dm', 'look', 'together', 'https', 'co'], ['took', 'phone', 'charge', 'battery', 'remaining', 'plz', 'beg', 'sort', 'battery', 'life'], ['points', 'load', 'hit', 'number', 'get', 'immediately', 'even', 'receive', 'congrats', 'email', 'almost', 'ac'], ['southwestair', 'thank', 'answer'], ['southwestair', 'curious', 'get', 'companion', 'pass', 'exact', 'moment', 'get', 'enough', 'points', 'wait', 'thanks'], ['like', 'provide', 'assistance', 'tell', 'us', 'issue', 'experiencing', 'dm', 'go', 'https', 'co'], ['applesupport', 'need', 'new', 'code', 'store', 'recd', 'msg', 'many', 'sent', 'help'], ['experiencing', 'issue', 'device', 'dm', 'us', 'going', 'see', 'help', 'https', 'co'], ['applesupport', 'fix', 'update', 'horrible'], ['appreciate', 'hopefully', 'depart', 'soon', 'sorry', 'inconvenience', 'delay', 'caused', 'jr'], ['thanks', 'answer', 'response', 'onsite', 'aircraft', 'depart', 'today', 'rebooking', 'delay'], ['sorry', 'hear', 'hope', 'get', 'everything', 'sorted', 'kind', 'regards', 'jools'], ['sorry', 'poor', 'experience', 'please', 'dm', 'full', 'service', 'address', 'name', 'account', 'ass', 'https', 'co', 'jezhqgdbmd'], ['yard', 'called', 'times', 'weeks', 'customer', 'pretty', 'tempting', 'coaxial'], ['guess', 'means', 'free', 'cable', 'neighborhood', 'https', 'co'], ['hi', 'thomas', 'colleague', 'believes', 'person', 'buying', 'alcohol', 'looks', 'challenged', 'id', 'prove', 'age', 'paige'], ['tesco', 'maybe', 'hire', 'colleagues', 'see'], ['tesco', 'point', 'enforced', 'properly', 'plus', 'take', 'common', 'sense', 'think', 'person', 'look'], ['hi', 'thomas', 'correct', 'helps', 'store', 'colleagues', 'judge', 'age', 'protect', 'making', 'underage', 'sales', 'amanda'], ['tesco', 'uk', 'offlicense', 'law'], ['hi', 'thomas', 'operate', 'think', 'policy', 'stores', 'flattered', 'id', 'helena'], ['got', 'id', 'tesco', 'buying', 'one', 'adnams', 'broadside', 'blind', 'part', 'job', 'spec', 'kilos'], ['hi', 'could', 'try', 'deleting', 'cache', 'cookies', 'reinstalling', 'app', 'using', 'fix', 'issue', 'dani'], ['tesco', 'lose', 'shopping', 'done', 'delete', 'cache', 'cookies', 'using', 'app'], ['hi', 'long', 'sign', 'account', 'prior', 'deleting', 'cache', 'amp', 'cookies', 'still', 'full', 'basket', 'thanks', 'mike'], ['tesco', 'done', 'still', 'telling', 'delivery', 'slots', 'whatsoever'], ['dm', 'full', 'name', 'address', 'email', 'happy', 'look', 'thanks', 'mike'], ['hey', 'tesco', 'website', 'broken', 'telling', 'delivery', 'slots', 'next', 'weeks', 'find', 'slightly', 'unlikely'], ['particular', 'app', 'seems', 'cause', 'issues', 'others', 'model', 'iphone', 'using', 'join', 'us', 'dm', 'https', 'co'], ['applesupport', 'latest', 'version', 'ios', 'started', 'immediately', 'updated', 'phone'], ['like', 'help', 'start', 'happening', 'version', 'ios', 'running', 'currently'], ['apps', 'stop', 'working', 'without', 'warning', 'phone', 'freezes', 'every', 'five', 'minutes', 'love', 'new', 'update'], ['hi', 'agoura', 'thanks', 'tweeting', 'please', 'refer', 'article', 'https', 'co', 'bssgjzartc', 'amp', 'click', 'link', 'reply', 'back', 'rashmi', 'https', 'co'], ['hpsupport', 'problem', 'printhead', 'serial', 'hpcswus', 'hpprnt'], ['ups', 'service', 'called', 'choice', 'allow', 'packages', 'delivered', 'ups', 'store', 'ml', 'https', 'co', 'https', 'co', 'wkjhdxwgrq'], ['wish', 'amazon', 'option', 'get', 'shipped', 'ups', 'store', 'avoid', 'lot', 'struggle'], ['reschedule', 'shit', 'tomorrow', 'https', 'co'], ['hey', 'sara', 'sorry', 'hear', 'issues', 'ask', 'lay', 'speed', 'website', 'responding', 'ty', 'chris'], ['tesco', 'bit', 'finding', 'layout', 'cumbersome', 'removing', 'item', 'faves', 'getting', 'huge', 'slowdown', 'keen', 'thin', 'green', 'line', 'https', 'co'], ['help', 'please', 'dm', 'full', 'name', 'address', 'email', 'including', 'browser', 'device', 'log', 'thanks', 'lee']]\n"
     ]
    }
   ],
   "source": [
    "filter = r'\\b[a-z][a-z]*[a-z]\\b'\n",
    "\n",
    "for i in range(len(texts)):\n",
    "  texts[i] = [word for word in re.findall(filter, texts[i].lower()) if word not in stopwords.words('english')]\n",
    "\n",
    "print(texts)\n"
   ]
  },
  {
   "cell_type": "markdown",
   "metadata": {},
   "source": [
    "* result after filtering the tweets' content"
   ]
  },
  {
   "cell_type": "code",
   "execution_count": 6,
   "metadata": {},
   "outputs": [
    {
     "data": {
      "text/plain": [
       "['applesupport',\n",
       " 'causing',\n",
       " 'reply',\n",
       " 'disregarded',\n",
       " 'tapped',\n",
       " 'notification',\n",
       " 'keyboard',\n",
       " 'opened']"
      ]
     },
     "execution_count": 6,
     "metadata": {},
     "output_type": "execute_result"
    }
   ],
   "source": [
    "texts[0]"
   ]
  },
  {
   "cell_type": "markdown",
   "metadata": {},
   "source": [
    "* Lemmatization"
   ]
  },
  {
   "cell_type": "code",
   "execution_count": 10,
   "metadata": {},
   "outputs": [],
   "source": [
    "# lemmatizer = WordNetLemmatizer()\n",
    "\n",
    "# lemmatized_words = [lemmatizer.lemmatize(word) for word in texts[0]]\n",
    "\n",
    "lemmatized_words = [word.lemma_ for word in nlp(' '.join(texts[0]))]"
   ]
  },
  {
   "cell_type": "markdown",
   "metadata": {},
   "source": [
    "* Lemmatization's result"
   ]
  },
  {
   "cell_type": "code",
   "execution_count": 11,
   "metadata": {},
   "outputs": [
    {
     "data": {
      "text/plain": [
       "['applesupport',\n",
       " 'cause',\n",
       " 'reply',\n",
       " 'disregard',\n",
       " 'tap',\n",
       " 'notification',\n",
       " 'keyboard',\n",
       " 'open']"
      ]
     },
     "execution_count": 11,
     "metadata": {},
     "output_type": "execute_result"
    }
   ],
   "source": [
    "lemmatized_words"
   ]
  },
  {
   "cell_type": "markdown",
   "metadata": {},
   "source": [
    "* Stemming"
   ]
  },
  {
   "cell_type": "code",
   "execution_count": 12,
   "metadata": {},
   "outputs": [],
   "source": [
    "stemmer = PorterStemmer()\n",
    "\n",
    "stemmed_words = [stemmer.stem(word) for word in texts[0]]"
   ]
  },
  {
   "cell_type": "markdown",
   "metadata": {},
   "source": [
    "* Stemming result"
   ]
  },
  {
   "cell_type": "code",
   "execution_count": 13,
   "metadata": {},
   "outputs": [
    {
     "data": {
      "text/plain": [
       "['applesupport',\n",
       " 'caus',\n",
       " 'repli',\n",
       " 'disregard',\n",
       " 'tap',\n",
       " 'notif',\n",
       " 'keyboard',\n",
       " 'open']"
      ]
     },
     "execution_count": 13,
     "metadata": {},
     "output_type": "execute_result"
    }
   ],
   "source": [
    "stemmed_words"
   ]
  }
 ],
 "metadata": {
  "kernelspec": {
   "display_name": "Python 3",
   "language": "python",
   "name": "python3"
  },
  "language_info": {
   "codemirror_mode": {
    "name": "ipython",
    "version": 3
   },
   "file_extension": ".py",
   "mimetype": "text/x-python",
   "name": "python",
   "nbconvert_exporter": "python",
   "pygments_lexer": "ipython3",
   "version": "3.10.11"
  }
 },
 "nbformat": 4,
 "nbformat_minor": 2
}
